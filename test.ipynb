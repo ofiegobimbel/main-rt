{
 "cells": [
  {
   "cell_type": "code",
   "execution_count": 1,
   "metadata": {},
   "outputs": [],
   "source": [
    "import rpy2\n",
    "import rpy2.robjects as robjects\n",
    "import rpy2.robjects.packages as pkgs\n",
    "\n",
    "base = pkgs.importr(\"base\")\n",
    "utils = pkgs.importr(\"utils\")\n",
    "\n",
    "# utils.install_packages(\"fortunes\")\n",
    "# utils.install_packages(\"arrow\")\n",
    "# utils.install_packages(\"dplyr\")\n",
    "\n",
    "ftns = pkgs.importr(\"fortunes\")\n",
    "ftn7 = ftns.fortune(7)\n",
    "print(ftn7)"
   ]
  },
  {
   "cell_type": "code",
   "execution_count": null,
   "metadata": {},
   "outputs": [],
   "source": [
    "import pandas\n",
    "\n",
    "fiction = pandas.read_csv(\"data-sampel.csv\", sep=\";\", low_memory=False, index_col=False)\n",
    "fiction.head()"
   ]
  },
  {
   "cell_type": "code",
   "execution_count": 5,
   "metadata": {},
   "outputs": [
    {
     "name": "stdout",
     "output_type": "stream",
     "text": [
      "\n",
      "\n"
     ]
    }
   ],
   "source": [
    "import pyarrow\n",
    "import rpy2_arrow.pyarrow_rarrow as pyra\n",
    "\n",
    "fiction2 = pyarrow.Table.from_pandas(fiction)\n",
    "print('')\n",
    "\n",
    "fiction3 = pyra.pyarrow_table_to_r_table(fiction2)\n",
    "print('')"
   ]
  },
  {
   "cell_type": "code",
   "execution_count": null,
   "metadata": {},
   "outputs": [],
   "source": [
    "%load_ext rpy2.ipython\n",
    "v = 2"
   ]
  },
  {
   "cell_type": "code",
   "execution_count": 19,
   "metadata": {},
   "outputs": [
    {
     "name": "stdout",
     "output_type": "stream",
     "text": [
      "[1] 2\n"
     ]
    }
   ],
   "source": [
    "%%R -i v fiction3\n",
    "suppressMessages({\n",
    "  library(dplyr)\n",
    "  library(arrow)\n",
    "})\n",
    "print(v)"
   ]
  }
 ],
 "metadata": {
  "kernelspec": {
   "display_name": ".venv",
   "language": "python",
   "name": "python3"
  },
  "language_info": {
   "codemirror_mode": {
    "name": "ipython",
    "version": 3
   },
   "file_extension": ".py",
   "mimetype": "text/x-python",
   "name": "python",
   "nbconvert_exporter": "python",
   "pygments_lexer": "ipython3",
   "version": "3.12.2"
  }
 },
 "nbformat": 4,
 "nbformat_minor": 2
}
